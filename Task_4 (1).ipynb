{
  "cells": [
    {
      "cell_type": "code",
      "execution_count": null,
      "metadata": {
        "colab": {
          "base_uri": "https://localhost:8080/"
        },
        "id": "TPQl2f-yhF74",
        "outputId": "f450a564-b7e7-487f-853d-bad8264dd33b"
      },
      "outputs": [
        {
          "name": "stdout",
          "output_type": "stream",
          "text": [
            "Requirement already satisfied: requests in /usr/local/lib/python3.11/dist-packages (2.32.3)\n",
            "Collecting python-dotenv\n",
            "  Downloading python_dotenv-1.1.1-py3-none-any.whl.metadata (24 kB)\n",
            "Requirement already satisfied: charset-normalizer<4,>=2 in /usr/local/lib/python3.11/dist-packages (from requests) (3.4.2)\n",
            "Requirement already satisfied: idna<4,>=2.5 in /usr/local/lib/python3.11/dist-packages (from requests) (3.10)\n",
            "Requirement already satisfied: urllib3<3,>=1.21.1 in /usr/local/lib/python3.11/dist-packages (from requests) (2.5.0)\n",
            "Requirement already satisfied: certifi>=2017.4.17 in /usr/local/lib/python3.11/dist-packages (from requests) (2025.7.14)\n",
            "Downloading python_dotenv-1.1.1-py3-none-any.whl (20 kB)\n",
            "Installing collected packages: python-dotenv\n",
            "Successfully installed python-dotenv-1.1.1\n"
          ]
        }
      ],
      "source": [
        "!pip install requests python-dotenv\n"
      ]
    },
    {
      "cell_type": "code",
      "execution_count": null,
      "metadata": {
        "id": "OYInCZRAtwfm"
      },
      "outputs": [],
      "source": [
        "import requests\n",
        "\n",
        "API_KEY = \"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\"  # <-- paste your OpenRouter key here\n",
        "\n",
        "def query_openrouter(prompt):\n",
        "    headers = {\n",
        "        \"Authorization\": f\"Bearer {API_KEY}\",\n",
        "        \"Content-Type\": \"application/json\"\n",
        "    }\n",
        "\n",
        "    data = {\n",
        "        \"model\": \"mistralai/mistral-7b-instruct\",  # or use \"openai/gpt-3.5-turbo\" or \"meta-llama/llama-3-8b-instruct\"\n",
        "        \"messages\": [\n",
        "            {\"role\": \"system\", \"content\": \"You are a helpful AI assistant.\"},\n",
        "            {\"role\": \"user\", \"content\": prompt}\n",
        "        ]\n",
        "    }\n",
        "\n",
        "    response = requests.post(\"https://openrouter.ai/api/v1/chat/completions\", headers=headers, json=data)\n",
        "\n",
        "    if response.status_code == 200:\n",
        "        return response.json()['choices'][0]['message']['content']\n",
        "    else:\n",
        "        return f\"❌ Error {response.status_code}: {response.text}\"\n"
      ]
    },
    {
      "cell_type": "code",
      "execution_count": null,
      "metadata": {
        "colab": {
          "background_save": true,
          "base_uri": "https://localhost:8080/"
        },
        "id": "SyWLG7cqt_1-",
        "outputId": "92587e9b-b596-4b42-c085-6d452a61f99f"
      },
      "outputs": [
        {
          "name": "stdout",
          "output_type": "stream",
          "text": [
            "🤖 Bot:  A fever is typically characterized by an elevated body temperature, usually above 100.4 °F (38 °C). Some other common symptoms may include sweating, chills, fatigue, headache, and muscle aches. However, these symptoms can be found in a variety of illnesses, ranging from the common cold to more serious conditions such as flu or bacterial infections.\n",
            "\n",
            "If you are experiencing these symptoms, it's important to seek medical attention. A healthcare professional will be able to provide a proper diagnosis based on your symptoms, medical history, and physical examination. In the meantime, you can help manage symptoms by staying hydrated, getting plenty of rest, and taking over-the-counter medications to help reduce fever and pain. Advil (ibuprofen) and Tylenol (acetaminophen) can help reduce fever and relieve pain, but it's important to follow the directions on the label and consult with a healthcare professional before taking any medication.\n",
            "\n",
            "If your fever is severe, persistent, or accompanied by other symptoms such as difficulty breathing, chest pain, severe headache, confusion, or stomach pain, seek emergency medical attention immediately.\n",
            "\n"
          ]
        }
      ],
      "source": [
        "while True:\n",
        "    user_input = input(\"💬 You: \")\n",
        "    if user_input.lower() in ['exit', 'quit']:\n",
        "        break\n",
        "    response = query_openrouter(user_input)\n",
        "    print(f\"🤖 Bot: {response}\\n\")\n"
      ]
    }
  ],
  "metadata": {
    "colab": {
      "provenance": []
    },
    "kernelspec": {
      "display_name": "Python 3",
      "name": "python3"
    },
    "language_info": {
      "name": "python"
    }
  },
  "nbformat": 4,
  "nbformat_minor": 0
}